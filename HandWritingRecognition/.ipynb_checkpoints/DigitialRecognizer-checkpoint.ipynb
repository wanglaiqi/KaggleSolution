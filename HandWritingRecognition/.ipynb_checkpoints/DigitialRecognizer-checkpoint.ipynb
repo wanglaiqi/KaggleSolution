{
 "cells": [
  {
   "cell_type": "code",
   "execution_count": 1,
   "metadata": {
    "collapsed": false
   },
   "outputs": [
    {
     "name": "stderr",
     "output_type": "stream",
     "text": [
      "D:\\DevelopSoftware\\AnacondaSoft\\Anaconda2\\lib\\site-packages\\sklearn\\cross_validation.py:44: DeprecationWarning: This module was deprecated in version 0.18 in favor of the model_selection module into which all the refactored classes and functions are moved. Also note that the interface of the new CV iterators are different from that of this module. This module will be removed in 0.20.\n",
      "  \"This module will be removed in 0.20.\", DeprecationWarning)\n",
      "D:\\DevelopSoftware\\AnacondaSoft\\Anaconda2\\lib\\site-packages\\sklearn\\grid_search.py:43: DeprecationWarning: This module was deprecated in version 0.18 in favor of the model_selection module into which all the refactored classes and functions are moved. This module will be removed in 0.20.\n",
      "  DeprecationWarning)\n"
     ]
    },
    {
     "ename": "NameError",
     "evalue": "name 'cross_val_score' is not defined",
     "output_type": "error",
     "traceback": [
      "\u001b[1;31m---------------------------------------------------------------------------\u001b[0m",
      "\u001b[1;31mNameError\u001b[0m                                 Traceback (most recent call last)",
      "\u001b[1;32m<ipython-input-1-0c740b5410ad>\u001b[0m in \u001b[0;36m<module>\u001b[1;34m()\u001b[0m\n\u001b[0;32m     24\u001b[0m \u001b[1;31m#progressing\u001b[0m\u001b[1;33m\u001b[0m\u001b[1;33m\u001b[0m\u001b[0m\n\u001b[0;32m     25\u001b[0m \u001b[0mknn_clf\u001b[0m \u001b[1;33m=\u001b[0m \u001b[0mKNeighborsClassifier\u001b[0m\u001b[1;33m(\u001b[0m\u001b[0mn_neighbors\u001b[0m\u001b[1;33m=\u001b[0m\u001b[1;36m5\u001b[0m\u001b[1;33m,\u001b[0m \u001b[0malgorithm\u001b[0m\u001b[1;33m=\u001b[0m\u001b[1;34m'kd_tree'\u001b[0m\u001b[1;33m,\u001b[0m \u001b[0mweights\u001b[0m\u001b[1;33m=\u001b[0m\u001b[1;34m'distance'\u001b[0m\u001b[1;33m,\u001b[0m \u001b[0mp\u001b[0m\u001b[1;33m=\u001b[0m\u001b[1;36m3\u001b[0m\u001b[1;33m)\u001b[0m\u001b[1;33m\u001b[0m\u001b[0m\n\u001b[1;32m---> 26\u001b[1;33m \u001b[0mscore\u001b[0m \u001b[1;33m=\u001b[0m \u001b[0mcross_val_score\u001b[0m\u001b[1;33m(\u001b[0m\u001b[0mknn_clf\u001b[0m\u001b[1;33m,\u001b[0m \u001b[0mimage_train_x_small\u001b[0m\u001b[1;33m,\u001b[0m \u001b[0mimage_train_y_small\u001b[0m\u001b[1;33m,\u001b[0m \u001b[0mcv\u001b[0m\u001b[1;33m=\u001b[0m\u001b[1;36m3\u001b[0m\u001b[1;33m)\u001b[0m\u001b[1;33m\u001b[0m\u001b[0m\n\u001b[0m\u001b[0;32m     27\u001b[0m \u001b[1;32mprint\u001b[0m\u001b[1;33m(\u001b[0m\u001b[0mscore\u001b[0m\u001b[1;33m.\u001b[0m\u001b[0mmean\u001b[0m\u001b[1;33m(\u001b[0m\u001b[1;33m)\u001b[0m\u001b[1;33m)\u001b[0m\u001b[1;33m\u001b[0m\u001b[0m\n\u001b[0;32m     28\u001b[0m \u001b[1;31m#end time\u001b[0m\u001b[1;33m\u001b[0m\u001b[1;33m\u001b[0m\u001b[0m\n",
      "\u001b[1;31mNameError\u001b[0m: name 'cross_val_score' is not defined"
     ]
    }
   ],
   "source": [
    "import numpy as np\n",
    "import pandas as pd\n",
    "import csv\n",
    "import time\n",
    "import matplotlib.pyplot as plt\n",
    "from sklearn.preprocessing import StandardScaler\n",
    "from sklearn.grid_search import GridSearchCV\n",
    "from sklearn.linear_model import LogisticRegression\n",
    "from sklearn.cross_validation import cross_val_score\n",
    "\n",
    "#read train && test data set\n",
    "image_train_data = pd.read_csv(\"D:/kaggleCompetition/HandWritingRecognition/train.csv\")\n",
    "image_test_data = pd.read_csv(\"D:/kaggleCompetition/HandWritingRecognition/test.csv\")\n",
    "#get the train data and the test data\n",
    "image_train_x = image_train_data.iloc[:,1:].values\n",
    "image_train_y = image_train_data.iloc[:,0].values\n",
    "#for fast evaluation\n",
    "image_train_x_small = image_train_x[:10000,:]\n",
    "image_train_y_small = image_train_y[:10000]\n",
    "\n",
    "image_test_x = image_test_data.iloc[:,:].values\n",
    "\n",
    "from sklearn.neighbors import KNeighborsClassifier\n",
    "#begin time\n",
    "start = time.clock()\n",
    "#progressing\n",
    "knn_clf = KNeighborsClassifier(n_neighbors=5, algorithm='kd_tree', weights='distance', p=3)\n",
    "score = cross_val_score(knn_clf, image_train_x_small, image_train_y_small, cv=3)\n",
    "print(score.mean())\n",
    "#end time\n",
    "elapsed = (time.clock() - start)\n",
    "print(\"Time used:\",int(elapsed), \"s\")\n",
    "\n",
    "start = time.clock()\n",
    "knn_clf.fit(image_train_x,image_train_y)\n",
    "elapsed = (time.clock()-start)\n",
    "print(\"training timed used:\",int(elapsed/60),\"min\")\n",
    "\n",
    "knn_result = knn_clf.predict(image_test_x)\n",
    "knn_result = np.c_[range(1,len(knn_result)+1), knn_result.astype(int)]\n",
    "df_knn_result = pd.DataFrame(knn_result, columns=['ImageId', 'Label'])\n",
    "df_knn_result.to_csv('D:/kaggleCompetition/HandWritingRecognition/knnresult.csv',index = False)\n",
    "#end time\n",
    "elapsed = (time.clock()-start)\n",
    "print(\"Test Time used:\",int(elapsed/60),\"min\")"
   ]
  },
  {
   "cell_type": "code",
   "execution_count": 14,
   "metadata": {
    "collapsed": true
   },
   "outputs": [],
   "source": [
    "#transfer the data from string to int\n",
    "\"\"\"\n",
    "def toInt(image_test_data):\n",
    "    m,n = image_test_data.shape\n",
    "    for i in xrange(m):\n",
    "        for j in xrange(n):\n",
    "            image_test_data.iat[i,j] = int(image_test_data.iat[i,j])\n",
    "    return iamge_test_data\n",
    "\"\"\""
   ]
  },
  {
   "cell_type": "code",
   "execution_count": null,
   "metadata": {
    "collapsed": true
   },
   "outputs": [],
   "source": [
    "\"\"\"#normalizing the image data\n",
    "def NormalizingData(image_test_data):\n",
    "    m,n = image_test_data.shape\n",
    "    for i in xrange(m):\n",
    "        for j in xrange(n):\n",
    "            if image_test_data.iat[i,j]!=0:\n",
    "                image_test_data.iat[i,j]=1\n",
    "    return image_test_data\n",
    "\n",
    "submission = pd.DataFrame(test_y, index=test_ids, columns=le.classes_)\n",
    "submission.to_csv('D:/kaggleCompetition/HandWritingRecognition/submission_logregression.csv')\n",
    "\"\"\""
   ]
  },
  {
   "cell_type": "code",
   "execution_count": null,
   "metadata": {
    "collapsed": true
   },
   "outputs": [],
   "source": []
  }
 ],
 "metadata": {
  "kernelspec": {
   "display_name": "Python 2",
   "language": "python",
   "name": "python2"
  },
  "language_info": {
   "codemirror_mode": {
    "name": "ipython",
    "version": 2
   },
   "file_extension": ".py",
   "mimetype": "text/x-python",
   "name": "python",
   "nbconvert_exporter": "python",
   "pygments_lexer": "ipython2",
   "version": "2.7.12"
  }
 },
 "nbformat": 4,
 "nbformat_minor": 0
}
