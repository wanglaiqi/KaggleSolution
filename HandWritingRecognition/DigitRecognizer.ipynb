{
 "cells": [
  {
   "cell_type": "code",
   "execution_count": null,
   "metadata": {
    "collapsed": false
   },
   "outputs": [],
   "source": [
    "import numpy as np\n",
    "import pandas as pd\n",
    "import matplotlib.pyplot as plt\n",
    "%matplotlib inline\n",
    "from sklearn.preprocessing import StandardScaler"
   ]
  },
  {
   "cell_type": "code",
   "execution_count": null,
   "metadata": {
    "collapsed": true
   },
   "outputs": [],
   "source": [
    "#algorithm1: use the knn classifier\n",
    "from sklearn.neighbors import KNeighborsClassifier\n",
    "def knnClassifier(image_X_train,image_y_train,image_X_test):\n",
    "    knn_clf = KNeighborsClassifier()\n",
    "    knn_clf.fit(image_X_train,image_y_train)\n",
    "    print(knn_clf)\n",
    "    #make prediction\n",
    "    image_y_test = knn_clf.predict(image_X_test)"
   ]
  },
  {
   "cell_type": "code",
   "execution_count": 3,
   "metadata": {
    "collapsed": true
   },
   "outputs": [],
   "source": [
    "#the main program about the program\n",
    "def HandingWritingRecognition():\n",
    "    #read train && test data set\n",
    "    image_train_data = pd.read_csv(\"D:/kaggleCompetition/HandWritingRecognition/train.csv\")\n",
    "    image_test_data = pd.read_csv(\"D:/kaggleCompetition/HandWritingRecognition/test.csv\")\n",
    "    #get the train datat and the test data\n",
    "    image_train_X = image_train_data.iloc[:,1:]\n",
    "    image_train_y = image_train_data.iloc[:,1]\n",
    "    image_test_X = image_test_data.iloc[:,:]\n",
    "    #normalizing the data\n",
    "    stdsc = StandardScaler()\n",
    "    image_train_std_X = stdsc.fit_transform(image_train_X)\n",
    "    image_test_std_X = stdsc.transform(image_test_X)\n",
    "    #algorithm1: knn classifier\n",
    "    knnClassifier(image_train_std_X,image_train_y,image_test_std_X)\n",
    "    #algorithm2: Lg classifier"
   ]
  },
  {
   "cell_type": "code",
   "execution_count": null,
   "metadata": {
    "collapsed": true
   },
   "outputs": [],
   "source": [
    "#save the predict result into csv file\n",
    "def savePredictResult(image_y_predict,csvFielName):\n",
    "    with open(csvFielName,'wb') as myFile:\n",
    "        myWriter = csv.writer(myFile)\n",
    "        for i in image_y_predict:\n",
    "            tmp = []\n",
    "            tmp.append(i)\n",
    "            myWriter.writerow(tmp)\n",
    "    "
   ]
  }
 ],
 "metadata": {
  "kernelspec": {
   "display_name": "Python 2",
   "language": "python",
   "name": "python2"
  },
  "language_info": {
   "codemirror_mode": {
    "name": "ipython",
    "version": 2
   },
   "file_extension": ".py",
   "mimetype": "text/x-python",
   "name": "python",
   "nbconvert_exporter": "python",
   "pygments_lexer": "ipython2",
   "version": "2.7.12"
  }
 },
 "nbformat": 4,
 "nbformat_minor": 0
}
