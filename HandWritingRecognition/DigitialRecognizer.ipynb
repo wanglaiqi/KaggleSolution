{
 "cells": [
  {
   "cell_type": "code",
   "execution_count": null,
   "metadata": {
    "collapsed": false
   },
   "outputs": [
    {
     "name": "stdout",
     "output_type": "stream",
     "text": [
      "0.947298365455\n",
      "('Time used:', 1276, 's')\n",
      "('training timed used:', 0, 'min')"
     ]
    }
   ],
   "source": [
    "import numpy as np\n",
    "import pandas as pd\n",
    "import csv\n",
    "import time\n",
    "import matplotlib.pyplot as plt\n",
    "from sklearn.preprocessing import StandardScaler\n",
    "from sklearn.grid_search import GridSearchCV\n",
    "from sklearn.linear_model import LogisticRegression\n",
    "from sklearn.cross_validation import cross_val_score\n",
    "\n",
    "#read train && test data set\n",
    "image_train_data = pd.read_csv(\"D:/kaggleCompetition/HandWritingRecognition/train.csv\")\n",
    "image_test_data = pd.read_csv(\"D:/kaggleCompetition/HandWritingRecognition/test.csv\")\n",
    "#get the train data and the test data\n",
    "image_train_x = image_train_data.iloc[:,1:].values\n",
    "image_train_y = image_train_data.iloc[:,0].values\n",
    "#for fast evaluation\n",
    "image_train_x_small = image_train_x[:10000,:]\n",
    "image_train_y_small = image_train_y[:10000]\n",
    "\n",
    "image_test_x = image_test_data.iloc[:,:].values\n",
    "\n",
    "from sklearn.neighbors import KNeighborsClassifier\n",
    "#begin time\n",
    "start = time.clock()\n",
    "#progressing\n",
    "knn_clf = KNeighborsClassifier(n_neighbors=5, algorithm='kd_tree', weights='distance', p=3)\n",
    "score = cross_val_score(knn_clf, image_train_x_small, image_train_y_small, cv=3)\n",
    "print(score.mean())\n",
    "#end time\n",
    "elapsed = (time.clock() - start)\n",
    "print(\"Time used:\",int(elapsed), \"s\")\n",
    "\n",
    "start = time.clock()\n",
    "knn_clf.fit(image_train_x,image_train_y)\n",
    "elapsed = (time.clock()-start)\n",
    "print(\"training timed used:\",int(elapsed/60),\"min\")\n",
    "\n",
    "knn_result = knn_clf.predict(image_test_x)\n",
    "knn_result = np.c_[range(1,len(knn_result)+1), knn_result.astype(int)]\n",
    "df_knn_result = pd.DataFrame(knn_result, columns=['ImageId', 'Label'])\n",
    "df_knn_result.to_csv('D:/kaggleCompetition/HandWritingRecognition/knnresult.csv',index = False)\n",
    "#end time\n",
    "elapsed = (time.clock()-start)\n",
    "print(\"Test Time used:\",int(elapsed/60),\"min\")"
   ]
  },
  {
   "cell_type": "code",
   "execution_count": 14,
   "metadata": {
    "collapsed": true
   },
   "outputs": [],
   "source": [
    "#transfer the data from string to int\n",
    "\"\"\"\n",
    "def toInt(image_test_data):\n",
    "    m,n = image_test_data.shape\n",
    "    for i in xrange(m):\n",
    "        for j in xrange(n):\n",
    "            image_test_data.iat[i,j] = int(image_test_data.iat[i,j])\n",
    "    return iamge_test_data\n",
    "\"\"\""
   ]
  },
  {
   "cell_type": "code",
   "execution_count": null,
   "metadata": {
    "collapsed": true
   },
   "outputs": [],
   "source": [
    "\"\"\"#normalizing the image data\n",
    "def NormalizingData(image_test_data):\n",
    "    m,n = image_test_data.shape\n",
    "    for i in xrange(m):\n",
    "        for j in xrange(n):\n",
    "            if image_test_data.iat[i,j]!=0:\n",
    "                image_test_data.iat[i,j]=1\n",
    "    return image_test_data\n",
    "\n",
    "submission = pd.DataFrame(test_y, index=test_ids, columns=le.classes_)\n",
    "submission.to_csv('D:/kaggleCompetition/HandWritingRecognition/submission_logregression.csv')\n",
    "\"\"\""
   ]
  },
  {
   "cell_type": "code",
   "execution_count": null,
   "metadata": {
    "collapsed": true
   },
   "outputs": [],
   "source": []
  }
 ],
 "metadata": {
  "kernelspec": {
   "display_name": "Python 2",
   "language": "python",
   "name": "python2"
  },
  "language_info": {
   "codemirror_mode": {
    "name": "ipython",
    "version": 2
   },
   "file_extension": ".py",
   "mimetype": "text/x-python",
   "name": "python",
   "nbconvert_exporter": "python",
   "pygments_lexer": "ipython2",
   "version": "2.7.12"
  }
 },
 "nbformat": 4,
 "nbformat_minor": 0
}
